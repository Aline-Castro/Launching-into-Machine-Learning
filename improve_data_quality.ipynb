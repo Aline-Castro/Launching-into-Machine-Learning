{
  "cells": [
    {
      "cell_type": "markdown",
      "metadata": {
        "id": "rNdWfPXCjTjY"
      },
      "source": [
        "# Improving Data Quality\n",
        "\n",
        "**Learning Objectives**\n",
        "\n",
        "\n",
        "1. Resolve missing values\n",
        "2. Convert the Date feature column to a datetime format\n",
        "3. Rename a feature column, remove a value from a feature column\n",
        "4. Create one-hot encoding features\n",
        "5. Understand temporal feature conversions \n",
        "\n",
        "\n",
        "## Introduction \n",
        "\n",
        "Recall that machine learning models can only consume numeric data, and that numeric data should be \"1\"s or \"0\"s.  Data is said to be \"messy\" or \"untidy\" if it is missing attribute values, contains noise or outliers, has duplicates, wrong data, upper/lower case column names, and is essentially not ready for ingestion by a machine learning algorithm.  \n",
        "\n",
        "This notebook presents and solves some of the most common issues of \"untidy\" data.  Note that different problems will require different methods, and they are beyond the scope of this notebook.\n",
        "\n",
        "Each learning objective will correspond to a _#TODO_ in this student lab notebook -- try to complete this notebook first and then review the [solution notebook](https://github.com/GoogleCloudPlatform/training-data-analyst/blob/master/courses/machine_learning/deepdive2/launching_into_ml/solutions/improve_data_quality.ipynb)."
      ]
    },
    {
      "cell_type": "code",
      "execution_count": null,
      "metadata": {
        "id": "txY2RqPk9AKb"
      },
      "outputs": [],
      "source": [
        "!sudo chown -R jupyter:jupyter /home/jupyter/training-data-analyst"
      ]
    },
    {
      "cell_type": "markdown",
      "metadata": {
        "id": "VxyBFc_kKazA"
      },
      "source": [
        "Start by importing the necessary libraries for this lab."
      ]
    },
    {
      "cell_type": "markdown",
      "metadata": {
        "id": "tSqu5B8N9AKb"
      },
      "source": [
        "### Import Libraries"
      ]
    },
    {
      "cell_type": "code",
      "execution_count": 1,
      "metadata": {
        "colab": {
          "base_uri": "https://localhost:8080/"
        },
        "id": "UkZNUeRX9AKb",
        "outputId": "e41f61f0-e965-402f-89bc-ca0637cfeba0"
      },
      "outputs": [
        {
          "output_type": "stream",
          "name": "stdout",
          "text": [
            "TensorFlow version:  2.8.2\n"
          ]
        }
      ],
      "source": [
        "# Importing necessary tensorflow library and printing the TF version.\n",
        "import tensorflow as tf\n",
        "\n",
        "print(\"TensorFlow version: \",tf.version.VERSION)\n"
      ]
    },
    {
      "cell_type": "code",
      "execution_count": 2,
      "metadata": {
        "id": "jPuz3HD39AKb"
      },
      "outputs": [],
      "source": [
        "import os\n",
        "import pandas as pd  # First, we'll import Pandas, a data processing and CSV file I/O library\n",
        "import numpy as np\n",
        "from datetime import datetime\n",
        "import matplotlib.pyplot as plt\n",
        "import seaborn as sns\n",
        "%matplotlib inline"
      ]
    },
    {
      "cell_type": "markdown",
      "metadata": {
        "id": "3OIRCC3Y9AKr"
      },
      "source": [
        "### Load the Dataset"
      ]
    },
    {
      "cell_type": "markdown",
      "metadata": {
        "id": "RfNPM6f79AKr"
      },
      "source": [
        "The dataset is based on California's [Vehicle Fuel Type Count by Zip Code](https://data.ca.gov/dataset/vehicle-fuel-type-count-by-zip-codeSynthetic) report.  The dataset has been modified to make the data \"untidy\" and is thus a synthetic representation that can be used for learning purposes.  \n",
        "  \n",
        "Let's download the raw .csv data by copying the data from a cloud storage bucket.\n"
      ]
    },
    {
      "cell_type": "code",
      "execution_count": 3,
      "metadata": {
        "id": "VltpPeBr9AKr"
      },
      "outputs": [],
      "source": [
        "if not os.path.isdir(\"../data/transport\"):\n",
        "    os.makedirs(\"../data/transport\")"
      ]
    },
    {
      "cell_type": "code",
      "execution_count": 4,
      "metadata": {
        "colab": {
          "base_uri": "https://localhost:8080/"
        },
        "id": "FMySh85x9AKr",
        "outputId": "b4ef39a0-3dce-490a-fd82-72849083e669"
      },
      "outputs": [
        {
          "output_type": "stream",
          "name": "stdout",
          "text": [
            "Copying gs://cloud-training/mlongcp/v3.0_MLonGC/toy_data/untidy_vehicle_data_toy.csv...\n",
            "/ [0 files][    0.0 B/ 23.7 KiB]                                                \r/ [1 files][ 23.7 KiB/ 23.7 KiB]                                                \r\n",
            "Operation completed over 1 objects/23.7 KiB.                                     \n"
          ]
        }
      ],
      "source": [
        "!gsutil cp gs://cloud-training/mlongcp/v3.0_MLonGC/toy_data/untidy_vehicle_data_toy.csv ../data/transport"
      ]
    },
    {
      "cell_type": "code",
      "execution_count": 5,
      "metadata": {
        "colab": {
          "base_uri": "https://localhost:8080/"
        },
        "id": "1FjoqbVz9AKr",
        "outputId": "46e321e2-0487-416b-8bed-9fe3785ccd22"
      },
      "outputs": [
        {
          "output_type": "stream",
          "name": "stdout",
          "text": [
            "total 24\n",
            "-rw-r--r-- 1 root root 24263 Oct  5 16:23 untidy_vehicle_data_toy.csv\n"
          ]
        }
      ],
      "source": [
        "!ls -l ../data/transport"
      ]
    },
    {
      "cell_type": "markdown",
      "metadata": {
        "id": "KouigXhW9AKr"
      },
      "source": [
        "### Read Dataset into a Pandas DataFrame"
      ]
    },
    {
      "cell_type": "markdown",
      "metadata": {
        "id": "lM6-n6xntv3t"
      },
      "source": [
        "Next, let's read in the dataset just copied from the cloud storage bucket and create a Pandas DataFrame.  We also add a Pandas .head() function to show you the top 5 rows of data in the DataFrame. Head() and Tail() are \"best-practice\" functions used to investigate datasets.  "
      ]
    },
    {
      "cell_type": "code",
      "execution_count": 6,
      "metadata": {
        "colab": {
          "base_uri": "https://localhost:8080/",
          "height": 206
        },
        "id": "REZ57BXCLdfG",
        "outputId": "43637b15-5b61-4de1-b6bb-35ecd2d7c46e"
      },
      "outputs": [
        {
          "output_type": "execute_result",
          "data": {
            "text/plain": [
              "        Date  Zip Code Model Year                      Fuel       Make  \\\n",
              "0  10/1/2018   90000.0       2006                  Gasoline  OTHER/UNK   \n",
              "1  10/1/2018       NaN       2014                  Gasoline        NaN   \n",
              "2        NaN   90000.0        NaN                  Gasoline  OTHER/UNK   \n",
              "3  10/1/2018   90000.0       2017                  Gasoline  OTHER/UNK   \n",
              "4  10/1/2018   90000.0      <2006  Diesel and Diesel Hybrid  OTHER/UNK   \n",
              "\n",
              "  Light_Duty  Vehicles  \n",
              "0        NaN       1.0  \n",
              "1        Yes       1.0  \n",
              "2        Yes       NaN  \n",
              "3        Yes       1.0  \n",
              "4         No      55.0  "
            ],
            "text/html": [
              "\n",
              "  <div id=\"df-9887b60a-19d2-4134-bcc0-3cfee077457e\">\n",
              "    <div class=\"colab-df-container\">\n",
              "      <div>\n",
              "<style scoped>\n",
              "    .dataframe tbody tr th:only-of-type {\n",
              "        vertical-align: middle;\n",
              "    }\n",
              "\n",
              "    .dataframe tbody tr th {\n",
              "        vertical-align: top;\n",
              "    }\n",
              "\n",
              "    .dataframe thead th {\n",
              "        text-align: right;\n",
              "    }\n",
              "</style>\n",
              "<table border=\"1\" class=\"dataframe\">\n",
              "  <thead>\n",
              "    <tr style=\"text-align: right;\">\n",
              "      <th></th>\n",
              "      <th>Date</th>\n",
              "      <th>Zip Code</th>\n",
              "      <th>Model Year</th>\n",
              "      <th>Fuel</th>\n",
              "      <th>Make</th>\n",
              "      <th>Light_Duty</th>\n",
              "      <th>Vehicles</th>\n",
              "    </tr>\n",
              "  </thead>\n",
              "  <tbody>\n",
              "    <tr>\n",
              "      <th>0</th>\n",
              "      <td>10/1/2018</td>\n",
              "      <td>90000.0</td>\n",
              "      <td>2006</td>\n",
              "      <td>Gasoline</td>\n",
              "      <td>OTHER/UNK</td>\n",
              "      <td>NaN</td>\n",
              "      <td>1.0</td>\n",
              "    </tr>\n",
              "    <tr>\n",
              "      <th>1</th>\n",
              "      <td>10/1/2018</td>\n",
              "      <td>NaN</td>\n",
              "      <td>2014</td>\n",
              "      <td>Gasoline</td>\n",
              "      <td>NaN</td>\n",
              "      <td>Yes</td>\n",
              "      <td>1.0</td>\n",
              "    </tr>\n",
              "    <tr>\n",
              "      <th>2</th>\n",
              "      <td>NaN</td>\n",
              "      <td>90000.0</td>\n",
              "      <td>NaN</td>\n",
              "      <td>Gasoline</td>\n",
              "      <td>OTHER/UNK</td>\n",
              "      <td>Yes</td>\n",
              "      <td>NaN</td>\n",
              "    </tr>\n",
              "    <tr>\n",
              "      <th>3</th>\n",
              "      <td>10/1/2018</td>\n",
              "      <td>90000.0</td>\n",
              "      <td>2017</td>\n",
              "      <td>Gasoline</td>\n",
              "      <td>OTHER/UNK</td>\n",
              "      <td>Yes</td>\n",
              "      <td>1.0</td>\n",
              "    </tr>\n",
              "    <tr>\n",
              "      <th>4</th>\n",
              "      <td>10/1/2018</td>\n",
              "      <td>90000.0</td>\n",
              "      <td>&lt;2006</td>\n",
              "      <td>Diesel and Diesel Hybrid</td>\n",
              "      <td>OTHER/UNK</td>\n",
              "      <td>No</td>\n",
              "      <td>55.0</td>\n",
              "    </tr>\n",
              "  </tbody>\n",
              "</table>\n",
              "</div>\n",
              "      <button class=\"colab-df-convert\" onclick=\"convertToInteractive('df-9887b60a-19d2-4134-bcc0-3cfee077457e')\"\n",
              "              title=\"Convert this dataframe to an interactive table.\"\n",
              "              style=\"display:none;\">\n",
              "        \n",
              "  <svg xmlns=\"http://www.w3.org/2000/svg\" height=\"24px\"viewBox=\"0 0 24 24\"\n",
              "       width=\"24px\">\n",
              "    <path d=\"M0 0h24v24H0V0z\" fill=\"none\"/>\n",
              "    <path d=\"M18.56 5.44l.94 2.06.94-2.06 2.06-.94-2.06-.94-.94-2.06-.94 2.06-2.06.94zm-11 1L8.5 8.5l.94-2.06 2.06-.94-2.06-.94L8.5 2.5l-.94 2.06-2.06.94zm10 10l.94 2.06.94-2.06 2.06-.94-2.06-.94-.94-2.06-.94 2.06-2.06.94z\"/><path d=\"M17.41 7.96l-1.37-1.37c-.4-.4-.92-.59-1.43-.59-.52 0-1.04.2-1.43.59L10.3 9.45l-7.72 7.72c-.78.78-.78 2.05 0 2.83L4 21.41c.39.39.9.59 1.41.59.51 0 1.02-.2 1.41-.59l7.78-7.78 2.81-2.81c.8-.78.8-2.07 0-2.86zM5.41 20L4 18.59l7.72-7.72 1.47 1.35L5.41 20z\"/>\n",
              "  </svg>\n",
              "      </button>\n",
              "      \n",
              "  <style>\n",
              "    .colab-df-container {\n",
              "      display:flex;\n",
              "      flex-wrap:wrap;\n",
              "      gap: 12px;\n",
              "    }\n",
              "\n",
              "    .colab-df-convert {\n",
              "      background-color: #E8F0FE;\n",
              "      border: none;\n",
              "      border-radius: 50%;\n",
              "      cursor: pointer;\n",
              "      display: none;\n",
              "      fill: #1967D2;\n",
              "      height: 32px;\n",
              "      padding: 0 0 0 0;\n",
              "      width: 32px;\n",
              "    }\n",
              "\n",
              "    .colab-df-convert:hover {\n",
              "      background-color: #E2EBFA;\n",
              "      box-shadow: 0px 1px 2px rgba(60, 64, 67, 0.3), 0px 1px 3px 1px rgba(60, 64, 67, 0.15);\n",
              "      fill: #174EA6;\n",
              "    }\n",
              "\n",
              "    [theme=dark] .colab-df-convert {\n",
              "      background-color: #3B4455;\n",
              "      fill: #D2E3FC;\n",
              "    }\n",
              "\n",
              "    [theme=dark] .colab-df-convert:hover {\n",
              "      background-color: #434B5C;\n",
              "      box-shadow: 0px 1px 3px 1px rgba(0, 0, 0, 0.15);\n",
              "      filter: drop-shadow(0px 1px 2px rgba(0, 0, 0, 0.3));\n",
              "      fill: #FFFFFF;\n",
              "    }\n",
              "  </style>\n",
              "\n",
              "      <script>\n",
              "        const buttonEl =\n",
              "          document.querySelector('#df-9887b60a-19d2-4134-bcc0-3cfee077457e button.colab-df-convert');\n",
              "        buttonEl.style.display =\n",
              "          google.colab.kernel.accessAllowed ? 'block' : 'none';\n",
              "\n",
              "        async function convertToInteractive(key) {\n",
              "          const element = document.querySelector('#df-9887b60a-19d2-4134-bcc0-3cfee077457e');\n",
              "          const dataTable =\n",
              "            await google.colab.kernel.invokeFunction('convertToInteractive',\n",
              "                                                     [key], {});\n",
              "          if (!dataTable) return;\n",
              "\n",
              "          const docLinkHtml = 'Like what you see? Visit the ' +\n",
              "            '<a target=\"_blank\" href=https://colab.research.google.com/notebooks/data_table.ipynb>data table notebook</a>'\n",
              "            + ' to learn more about interactive tables.';\n",
              "          element.innerHTML = '';\n",
              "          dataTable['output_type'] = 'display_data';\n",
              "          await google.colab.output.renderOutput(dataTable, element);\n",
              "          const docLink = document.createElement('div');\n",
              "          docLink.innerHTML = docLinkHtml;\n",
              "          element.appendChild(docLink);\n",
              "        }\n",
              "      </script>\n",
              "    </div>\n",
              "  </div>\n",
              "  "
            ]
          },
          "metadata": {},
          "execution_count": 6
        }
      ],
      "source": [
        "df_transport = pd.read_csv('../data/transport/untidy_vehicle_data_toy.csv')\n",
        "df_transport.head() # Output the first five rows."
      ]
    },
    {
      "cell_type": "markdown",
      "metadata": {
        "id": "3rGeG63s9AKr"
      },
      "source": [
        "### DataFrame Column Data Types\n",
        "\n",
        "DataFrames may have heterogenous or \"mixed\" data types, that is, some columns are numbers, some are strings, and some are dates etc. Because CSV files do not contain information on what data types are contained in each column, Pandas infers the data types when loading the data, e.g. if a column contains only numbers, Pandas will set that column’s data type to numeric: integer or float.\n",
        "\n",
        "Run the next cell to see information on the DataFrame."
      ]
    },
    {
      "cell_type": "code",
      "execution_count": 7,
      "metadata": {
        "colab": {
          "base_uri": "https://localhost:8080/"
        },
        "id": "skv47yn_9AKr",
        "outputId": "9e832d77-779e-4bf2-9221-289822d92300"
      },
      "outputs": [
        {
          "output_type": "stream",
          "name": "stdout",
          "text": [
            "<class 'pandas.core.frame.DataFrame'>\n",
            "RangeIndex: 499 entries, 0 to 498\n",
            "Data columns (total 7 columns):\n",
            " #   Column      Non-Null Count  Dtype  \n",
            "---  ------      --------------  -----  \n",
            " 0   Date        497 non-null    object \n",
            " 1   Zip Code    497 non-null    float64\n",
            " 2   Model Year  497 non-null    object \n",
            " 3   Fuel        497 non-null    object \n",
            " 4   Make        496 non-null    object \n",
            " 5   Light_Duty  496 non-null    object \n",
            " 6   Vehicles    496 non-null    float64\n",
            "dtypes: float64(2), object(5)\n",
            "memory usage: 27.4+ KB\n"
          ]
        }
      ],
      "source": [
        "df_transport.info()"
      ]
    },
    {
      "cell_type": "markdown",
      "metadata": {
        "id": "AwEklOxW9AKr"
      },
      "source": [
        "From what the .info() function shows us, we have six string objects and one float object.  Let's print out the first and last five rows of each column. We can definitely see more of the \"string\" object values now!"
      ]
    },
    {
      "cell_type": "code",
      "execution_count": 8,
      "metadata": {
        "colab": {
          "base_uri": "https://localhost:8080/"
        },
        "id": "T5pTC5oL9AKr",
        "outputId": "c1f9aedb-9b43-4250-8c5b-a5d361889b7f"
      },
      "outputs": [
        {
          "output_type": "stream",
          "name": "stdout",
          "text": [
            "          Date  Zip Code Model Year                      Fuel       Make  \\\n",
            "0    10/1/2018   90000.0       2006                  Gasoline  OTHER/UNK   \n",
            "1    10/1/2018       NaN       2014                  Gasoline        NaN   \n",
            "2          NaN   90000.0        NaN                  Gasoline  OTHER/UNK   \n",
            "3    10/1/2018   90000.0       2017                  Gasoline  OTHER/UNK   \n",
            "4    10/1/2018   90000.0      <2006  Diesel and Diesel Hybrid  OTHER/UNK   \n",
            "..         ...       ...        ...                       ...        ...   \n",
            "494  12/3/2018   90002.0       2010                  Gasoline     Type_I   \n",
            "495  12/4/2018   90002.0       2010                  Gasoline     Type_B   \n",
            "496  12/5/2018   90002.0       2010                  Gasoline     Type_C   \n",
            "497  12/6/2018   90002.0       2010                  Gasoline     Type_J   \n",
            "498  12/7/2018   90002.0       2010                  Gasoline     Type_J   \n",
            "\n",
            "    Light_Duty  Vehicles  \n",
            "0          NaN       1.0  \n",
            "1          Yes       1.0  \n",
            "2          Yes       NaN  \n",
            "3          Yes       1.0  \n",
            "4           No      55.0  \n",
            "..         ...       ...  \n",
            "494        Yes      11.0  \n",
            "495        Yes      58.0  \n",
            "496        Yes      45.0  \n",
            "497        Yes      82.0  \n",
            "498        Yes      12.0  \n",
            "\n",
            "[499 rows x 7 columns]\n"
          ]
        }
      ],
      "source": [
        "print(df_transport)"
      ]
    },
    {
      "cell_type": "markdown",
      "metadata": {
        "id": "ydG7qVUu9AKr"
      },
      "source": [
        "### Summary Statistics \n",
        "\n",
        "At this point, we have only one column which contains a numerical value (e.g. Vehicles).  For features which contain numerical values, we are often interested in various statistical measures relating to those values.  We can use .describe() to see some summary statistics for the numeric fields in our dataframe. Note, that because we only have one numeric feature, we see only one summary stastic - for now.  "
      ]
    },
    {
      "cell_type": "code",
      "execution_count": 9,
      "metadata": {
        "colab": {
          "base_uri": "https://localhost:8080/",
          "height": 300
        },
        "id": "zRPUHHKW9AKr",
        "outputId": "fb3db232-93ab-45ee-bfd1-7effa43b6258"
      },
      "outputs": [
        {
          "output_type": "execute_result",
          "data": {
            "text/plain": [
              "          Zip Code     Vehicles\n",
              "count    497.00000   496.000000\n",
              "mean   89838.23340    74.512097\n",
              "std     3633.35609   243.839871\n",
              "min     9001.00000     1.000000\n",
              "25%    90001.00000    14.000000\n",
              "50%    90001.00000    25.000000\n",
              "75%    90001.00000    56.250000\n",
              "max    90002.00000  3178.000000"
            ],
            "text/html": [
              "\n",
              "  <div id=\"df-723402ac-682b-4966-8492-15c51058e1d5\">\n",
              "    <div class=\"colab-df-container\">\n",
              "      <div>\n",
              "<style scoped>\n",
              "    .dataframe tbody tr th:only-of-type {\n",
              "        vertical-align: middle;\n",
              "    }\n",
              "\n",
              "    .dataframe tbody tr th {\n",
              "        vertical-align: top;\n",
              "    }\n",
              "\n",
              "    .dataframe thead th {\n",
              "        text-align: right;\n",
              "    }\n",
              "</style>\n",
              "<table border=\"1\" class=\"dataframe\">\n",
              "  <thead>\n",
              "    <tr style=\"text-align: right;\">\n",
              "      <th></th>\n",
              "      <th>Zip Code</th>\n",
              "      <th>Vehicles</th>\n",
              "    </tr>\n",
              "  </thead>\n",
              "  <tbody>\n",
              "    <tr>\n",
              "      <th>count</th>\n",
              "      <td>497.00000</td>\n",
              "      <td>496.000000</td>\n",
              "    </tr>\n",
              "    <tr>\n",
              "      <th>mean</th>\n",
              "      <td>89838.23340</td>\n",
              "      <td>74.512097</td>\n",
              "    </tr>\n",
              "    <tr>\n",
              "      <th>std</th>\n",
              "      <td>3633.35609</td>\n",
              "      <td>243.839871</td>\n",
              "    </tr>\n",
              "    <tr>\n",
              "      <th>min</th>\n",
              "      <td>9001.00000</td>\n",
              "      <td>1.000000</td>\n",
              "    </tr>\n",
              "    <tr>\n",
              "      <th>25%</th>\n",
              "      <td>90001.00000</td>\n",
              "      <td>14.000000</td>\n",
              "    </tr>\n",
              "    <tr>\n",
              "      <th>50%</th>\n",
              "      <td>90001.00000</td>\n",
              "      <td>25.000000</td>\n",
              "    </tr>\n",
              "    <tr>\n",
              "      <th>75%</th>\n",
              "      <td>90001.00000</td>\n",
              "      <td>56.250000</td>\n",
              "    </tr>\n",
              "    <tr>\n",
              "      <th>max</th>\n",
              "      <td>90002.00000</td>\n",
              "      <td>3178.000000</td>\n",
              "    </tr>\n",
              "  </tbody>\n",
              "</table>\n",
              "</div>\n",
              "      <button class=\"colab-df-convert\" onclick=\"convertToInteractive('df-723402ac-682b-4966-8492-15c51058e1d5')\"\n",
              "              title=\"Convert this dataframe to an interactive table.\"\n",
              "              style=\"display:none;\">\n",
              "        \n",
              "  <svg xmlns=\"http://www.w3.org/2000/svg\" height=\"24px\"viewBox=\"0 0 24 24\"\n",
              "       width=\"24px\">\n",
              "    <path d=\"M0 0h24v24H0V0z\" fill=\"none\"/>\n",
              "    <path d=\"M18.56 5.44l.94 2.06.94-2.06 2.06-.94-2.06-.94-.94-2.06-.94 2.06-2.06.94zm-11 1L8.5 8.5l.94-2.06 2.06-.94-2.06-.94L8.5 2.5l-.94 2.06-2.06.94zm10 10l.94 2.06.94-2.06 2.06-.94-2.06-.94-.94-2.06-.94 2.06-2.06.94z\"/><path d=\"M17.41 7.96l-1.37-1.37c-.4-.4-.92-.59-1.43-.59-.52 0-1.04.2-1.43.59L10.3 9.45l-7.72 7.72c-.78.78-.78 2.05 0 2.83L4 21.41c.39.39.9.59 1.41.59.51 0 1.02-.2 1.41-.59l7.78-7.78 2.81-2.81c.8-.78.8-2.07 0-2.86zM5.41 20L4 18.59l7.72-7.72 1.47 1.35L5.41 20z\"/>\n",
              "  </svg>\n",
              "      </button>\n",
              "      \n",
              "  <style>\n",
              "    .colab-df-container {\n",
              "      display:flex;\n",
              "      flex-wrap:wrap;\n",
              "      gap: 12px;\n",
              "    }\n",
              "\n",
              "    .colab-df-convert {\n",
              "      background-color: #E8F0FE;\n",
              "      border: none;\n",
              "      border-radius: 50%;\n",
              "      cursor: pointer;\n",
              "      display: none;\n",
              "      fill: #1967D2;\n",
              "      height: 32px;\n",
              "      padding: 0 0 0 0;\n",
              "      width: 32px;\n",
              "    }\n",
              "\n",
              "    .colab-df-convert:hover {\n",
              "      background-color: #E2EBFA;\n",
              "      box-shadow: 0px 1px 2px rgba(60, 64, 67, 0.3), 0px 1px 3px 1px rgba(60, 64, 67, 0.15);\n",
              "      fill: #174EA6;\n",
              "    }\n",
              "\n",
              "    [theme=dark] .colab-df-convert {\n",
              "      background-color: #3B4455;\n",
              "      fill: #D2E3FC;\n",
              "    }\n",
              "\n",
              "    [theme=dark] .colab-df-convert:hover {\n",
              "      background-color: #434B5C;\n",
              "      box-shadow: 0px 1px 3px 1px rgba(0, 0, 0, 0.15);\n",
              "      filter: drop-shadow(0px 1px 2px rgba(0, 0, 0, 0.3));\n",
              "      fill: #FFFFFF;\n",
              "    }\n",
              "  </style>\n",
              "\n",
              "      <script>\n",
              "        const buttonEl =\n",
              "          document.querySelector('#df-723402ac-682b-4966-8492-15c51058e1d5 button.colab-df-convert');\n",
              "        buttonEl.style.display =\n",
              "          google.colab.kernel.accessAllowed ? 'block' : 'none';\n",
              "\n",
              "        async function convertToInteractive(key) {\n",
              "          const element = document.querySelector('#df-723402ac-682b-4966-8492-15c51058e1d5');\n",
              "          const dataTable =\n",
              "            await google.colab.kernel.invokeFunction('convertToInteractive',\n",
              "                                                     [key], {});\n",
              "          if (!dataTable) return;\n",
              "\n",
              "          const docLinkHtml = 'Like what you see? Visit the ' +\n",
              "            '<a target=\"_blank\" href=https://colab.research.google.com/notebooks/data_table.ipynb>data table notebook</a>'\n",
              "            + ' to learn more about interactive tables.';\n",
              "          element.innerHTML = '';\n",
              "          dataTable['output_type'] = 'display_data';\n",
              "          await google.colab.output.renderOutput(dataTable, element);\n",
              "          const docLink = document.createElement('div');\n",
              "          docLink.innerHTML = docLinkHtml;\n",
              "          element.appendChild(docLink);\n",
              "        }\n",
              "      </script>\n",
              "    </div>\n",
              "  </div>\n",
              "  "
            ]
          },
          "metadata": {},
          "execution_count": 9
        }
      ],
      "source": [
        "df_transport.describe()"
      ]
    },
    {
      "cell_type": "markdown",
      "metadata": {
        "id": "ujWCHNAV9AKr"
      },
      "source": [
        "Let's investigate a bit more of our data by using the .groupby() function."
      ]
    },
    {
      "cell_type": "code",
      "execution_count": 10,
      "metadata": {
        "colab": {
          "base_uri": "https://localhost:8080/",
          "height": 332
        },
        "id": "sjOD5i__9AK6",
        "outputId": "bc47a196-b407-45be-ff0f-c50cf1ffc68a"
      },
      "outputs": [
        {
          "output_type": "execute_result",
          "data": {
            "text/plain": [
              "                                Date  Zip Code Model Year       Make  \\\n",
              "Fuel                                                                   \n",
              "Battery Electric           10/1/2018   90000.0      <2006  OTHER/UNK   \n",
              "Diesel and Diesel Hybrid   10/1/2018   90000.0      <2006  OTHER/UNK   \n",
              "Flex-Fuel                 10/14/2018   90001.0       2007     Type_A   \n",
              "Gasoline                   10/1/2018   90000.0       2006  OTHER/UNK   \n",
              "Hybrid Gasoline           10/24/2018   90001.0       2009  OTHER/UNK   \n",
              "Natural Gas               10/25/2018   90001.0       2009  OTHER/UNK   \n",
              "Other                      10/8/2018   90000.0      <2006  OTHER/UNK   \n",
              "Plug-in Hybrid             11/2/2018   90001.0       2012  OTHER/UNK   \n",
              "\n",
              "                         Light_Duty  Vehicles  \n",
              "Fuel                                           \n",
              "Battery Electric                 No       4.0  \n",
              "Diesel and Diesel Hybrid         No      55.0  \n",
              "Flex-Fuel                       Yes      78.0  \n",
              "Gasoline                        Yes       1.0  \n",
              "Hybrid Gasoline                 Yes      18.0  \n",
              "Natural Gas                      No       2.0  \n",
              "Other                           Yes       6.0  \n",
              "Plug-in Hybrid                  Yes       1.0  "
            ],
            "text/html": [
              "\n",
              "  <div id=\"df-7cf1fdca-0a96-4eb0-8286-0834c0cfccdb\">\n",
              "    <div class=\"colab-df-container\">\n",
              "      <div>\n",
              "<style scoped>\n",
              "    .dataframe tbody tr th:only-of-type {\n",
              "        vertical-align: middle;\n",
              "    }\n",
              "\n",
              "    .dataframe tbody tr th {\n",
              "        vertical-align: top;\n",
              "    }\n",
              "\n",
              "    .dataframe thead th {\n",
              "        text-align: right;\n",
              "    }\n",
              "</style>\n",
              "<table border=\"1\" class=\"dataframe\">\n",
              "  <thead>\n",
              "    <tr style=\"text-align: right;\">\n",
              "      <th></th>\n",
              "      <th>Date</th>\n",
              "      <th>Zip Code</th>\n",
              "      <th>Model Year</th>\n",
              "      <th>Make</th>\n",
              "      <th>Light_Duty</th>\n",
              "      <th>Vehicles</th>\n",
              "    </tr>\n",
              "    <tr>\n",
              "      <th>Fuel</th>\n",
              "      <th></th>\n",
              "      <th></th>\n",
              "      <th></th>\n",
              "      <th></th>\n",
              "      <th></th>\n",
              "      <th></th>\n",
              "    </tr>\n",
              "  </thead>\n",
              "  <tbody>\n",
              "    <tr>\n",
              "      <th>Battery Electric</th>\n",
              "      <td>10/1/2018</td>\n",
              "      <td>90000.0</td>\n",
              "      <td>&lt;2006</td>\n",
              "      <td>OTHER/UNK</td>\n",
              "      <td>No</td>\n",
              "      <td>4.0</td>\n",
              "    </tr>\n",
              "    <tr>\n",
              "      <th>Diesel and Diesel Hybrid</th>\n",
              "      <td>10/1/2018</td>\n",
              "      <td>90000.0</td>\n",
              "      <td>&lt;2006</td>\n",
              "      <td>OTHER/UNK</td>\n",
              "      <td>No</td>\n",
              "      <td>55.0</td>\n",
              "    </tr>\n",
              "    <tr>\n",
              "      <th>Flex-Fuel</th>\n",
              "      <td>10/14/2018</td>\n",
              "      <td>90001.0</td>\n",
              "      <td>2007</td>\n",
              "      <td>Type_A</td>\n",
              "      <td>Yes</td>\n",
              "      <td>78.0</td>\n",
              "    </tr>\n",
              "    <tr>\n",
              "      <th>Gasoline</th>\n",
              "      <td>10/1/2018</td>\n",
              "      <td>90000.0</td>\n",
              "      <td>2006</td>\n",
              "      <td>OTHER/UNK</td>\n",
              "      <td>Yes</td>\n",
              "      <td>1.0</td>\n",
              "    </tr>\n",
              "    <tr>\n",
              "      <th>Hybrid Gasoline</th>\n",
              "      <td>10/24/2018</td>\n",
              "      <td>90001.0</td>\n",
              "      <td>2009</td>\n",
              "      <td>OTHER/UNK</td>\n",
              "      <td>Yes</td>\n",
              "      <td>18.0</td>\n",
              "    </tr>\n",
              "    <tr>\n",
              "      <th>Natural Gas</th>\n",
              "      <td>10/25/2018</td>\n",
              "      <td>90001.0</td>\n",
              "      <td>2009</td>\n",
              "      <td>OTHER/UNK</td>\n",
              "      <td>No</td>\n",
              "      <td>2.0</td>\n",
              "    </tr>\n",
              "    <tr>\n",
              "      <th>Other</th>\n",
              "      <td>10/8/2018</td>\n",
              "      <td>90000.0</td>\n",
              "      <td>&lt;2006</td>\n",
              "      <td>OTHER/UNK</td>\n",
              "      <td>Yes</td>\n",
              "      <td>6.0</td>\n",
              "    </tr>\n",
              "    <tr>\n",
              "      <th>Plug-in Hybrid</th>\n",
              "      <td>11/2/2018</td>\n",
              "      <td>90001.0</td>\n",
              "      <td>2012</td>\n",
              "      <td>OTHER/UNK</td>\n",
              "      <td>Yes</td>\n",
              "      <td>1.0</td>\n",
              "    </tr>\n",
              "  </tbody>\n",
              "</table>\n",
              "</div>\n",
              "      <button class=\"colab-df-convert\" onclick=\"convertToInteractive('df-7cf1fdca-0a96-4eb0-8286-0834c0cfccdb')\"\n",
              "              title=\"Convert this dataframe to an interactive table.\"\n",
              "              style=\"display:none;\">\n",
              "        \n",
              "  <svg xmlns=\"http://www.w3.org/2000/svg\" height=\"24px\"viewBox=\"0 0 24 24\"\n",
              "       width=\"24px\">\n",
              "    <path d=\"M0 0h24v24H0V0z\" fill=\"none\"/>\n",
              "    <path d=\"M18.56 5.44l.94 2.06.94-2.06 2.06-.94-2.06-.94-.94-2.06-.94 2.06-2.06.94zm-11 1L8.5 8.5l.94-2.06 2.06-.94-2.06-.94L8.5 2.5l-.94 2.06-2.06.94zm10 10l.94 2.06.94-2.06 2.06-.94-2.06-.94-.94-2.06-.94 2.06-2.06.94z\"/><path d=\"M17.41 7.96l-1.37-1.37c-.4-.4-.92-.59-1.43-.59-.52 0-1.04.2-1.43.59L10.3 9.45l-7.72 7.72c-.78.78-.78 2.05 0 2.83L4 21.41c.39.39.9.59 1.41.59.51 0 1.02-.2 1.41-.59l7.78-7.78 2.81-2.81c.8-.78.8-2.07 0-2.86zM5.41 20L4 18.59l7.72-7.72 1.47 1.35L5.41 20z\"/>\n",
              "  </svg>\n",
              "      </button>\n",
              "      \n",
              "  <style>\n",
              "    .colab-df-container {\n",
              "      display:flex;\n",
              "      flex-wrap:wrap;\n",
              "      gap: 12px;\n",
              "    }\n",
              "\n",
              "    .colab-df-convert {\n",
              "      background-color: #E8F0FE;\n",
              "      border: none;\n",
              "      border-radius: 50%;\n",
              "      cursor: pointer;\n",
              "      display: none;\n",
              "      fill: #1967D2;\n",
              "      height: 32px;\n",
              "      padding: 0 0 0 0;\n",
              "      width: 32px;\n",
              "    }\n",
              "\n",
              "    .colab-df-convert:hover {\n",
              "      background-color: #E2EBFA;\n",
              "      box-shadow: 0px 1px 2px rgba(60, 64, 67, 0.3), 0px 1px 3px 1px rgba(60, 64, 67, 0.15);\n",
              "      fill: #174EA6;\n",
              "    }\n",
              "\n",
              "    [theme=dark] .colab-df-convert {\n",
              "      background-color: #3B4455;\n",
              "      fill: #D2E3FC;\n",
              "    }\n",
              "\n",
              "    [theme=dark] .colab-df-convert:hover {\n",
              "      background-color: #434B5C;\n",
              "      box-shadow: 0px 1px 3px 1px rgba(0, 0, 0, 0.15);\n",
              "      filter: drop-shadow(0px 1px 2px rgba(0, 0, 0, 0.3));\n",
              "      fill: #FFFFFF;\n",
              "    }\n",
              "  </style>\n",
              "\n",
              "      <script>\n",
              "        const buttonEl =\n",
              "          document.querySelector('#df-7cf1fdca-0a96-4eb0-8286-0834c0cfccdb button.colab-df-convert');\n",
              "        buttonEl.style.display =\n",
              "          google.colab.kernel.accessAllowed ? 'block' : 'none';\n",
              "\n",
              "        async function convertToInteractive(key) {\n",
              "          const element = document.querySelector('#df-7cf1fdca-0a96-4eb0-8286-0834c0cfccdb');\n",
              "          const dataTable =\n",
              "            await google.colab.kernel.invokeFunction('convertToInteractive',\n",
              "                                                     [key], {});\n",
              "          if (!dataTable) return;\n",
              "\n",
              "          const docLinkHtml = 'Like what you see? Visit the ' +\n",
              "            '<a target=\"_blank\" href=https://colab.research.google.com/notebooks/data_table.ipynb>data table notebook</a>'\n",
              "            + ' to learn more about interactive tables.';\n",
              "          element.innerHTML = '';\n",
              "          dataTable['output_type'] = 'display_data';\n",
              "          await google.colab.output.renderOutput(dataTable, element);\n",
              "          const docLink = document.createElement('div');\n",
              "          docLink.innerHTML = docLinkHtml;\n",
              "          element.appendChild(docLink);\n",
              "        }\n",
              "      </script>\n",
              "    </div>\n",
              "  </div>\n",
              "  "
            ]
          },
          "metadata": {},
          "execution_count": 10
        }
      ],
      "source": [
        "df_transport.groupby('Fuel').first() # Get the first entry for each month. "
      ]
    },
    {
      "cell_type": "markdown",
      "metadata": {
        "id": "NuBOAdyH9AK6"
      },
      "source": [
        "#### Checking for Missing Values\n",
        "\n",
        "Missing values adversely impact data quality, as they can lead the machine learning model to make inaccurate inferences about the data. Missing values can be the result of numerous factors, e.g. \"bits\" lost during streaming transmission, data entry, or perhaps a user forgot to fill in a field.  Note that Pandas recognizes both empty cells and “NaN” types as missing values. "
      ]
    },
    {
      "cell_type": "markdown",
      "metadata": {
        "id": "Q-MJf53d9AK6"
      },
      "source": [
        "Let's show the null values for all features in the DataFrame."
      ]
    },
    {
      "cell_type": "code",
      "execution_count": 11,
      "metadata": {
        "colab": {
          "base_uri": "https://localhost:8080/"
        },
        "id": "dv7xJ1Wj9AK6",
        "outputId": "3817dc75-d948-4774-9d5e-237eddc5aae3"
      },
      "outputs": [
        {
          "output_type": "execute_result",
          "data": {
            "text/plain": [
              "Date          2\n",
              "Zip Code      2\n",
              "Model Year    2\n",
              "Fuel          2\n",
              "Make          3\n",
              "Light_Duty    3\n",
              "Vehicles      3\n",
              "dtype: int64"
            ]
          },
          "metadata": {},
          "execution_count": 11
        }
      ],
      "source": [
        "df_transport.isnull().sum()"
      ]
    },
    {
      "cell_type": "markdown",
      "metadata": {
        "id": "YN_lRvLE9AK6"
      },
      "source": [
        "To see a sampling of which values are missing, enter the feature column name.  You'll notice that \"False\" and \"True\" correpond to the presence or abscence of a value by index number."
      ]
    },
    {
      "cell_type": "code",
      "execution_count": 12,
      "metadata": {
        "colab": {
          "base_uri": "https://localhost:8080/"
        },
        "id": "yu4pDTXf9AK6",
        "outputId": "45f00b6d-fa0f-46c1-a213-16a3e5c9fddd"
      },
      "outputs": [
        {
          "output_type": "stream",
          "name": "stdout",
          "text": [
            "0      10/1/2018\n",
            "1      10/1/2018\n",
            "2            NaN\n",
            "3      10/1/2018\n",
            "4      10/1/2018\n",
            "         ...    \n",
            "494    12/3/2018\n",
            "495    12/4/2018\n",
            "496    12/5/2018\n",
            "497    12/6/2018\n",
            "498    12/7/2018\n",
            "Name: Date, Length: 499, dtype: object\n",
            "0      False\n",
            "1      False\n",
            "2       True\n",
            "3      False\n",
            "4      False\n",
            "       ...  \n",
            "494    False\n",
            "495    False\n",
            "496    False\n",
            "497    False\n",
            "498    False\n",
            "Name: Date, Length: 499, dtype: bool\n"
          ]
        }
      ],
      "source": [
        "print (df_transport['Date'])\n",
        "print (df_transport['Date'].isnull())"
      ]
    },
    {
      "cell_type": "code",
      "execution_count": 13,
      "metadata": {
        "colab": {
          "base_uri": "https://localhost:8080/"
        },
        "id": "qmrZkpUM9AK6",
        "outputId": "7fc3363b-dd1a-4b35-860e-f0aa5e75e918"
      },
      "outputs": [
        {
          "output_type": "stream",
          "name": "stdout",
          "text": [
            "0      OTHER/UNK\n",
            "1            NaN\n",
            "2      OTHER/UNK\n",
            "3      OTHER/UNK\n",
            "4      OTHER/UNK\n",
            "         ...    \n",
            "494       Type_I\n",
            "495       Type_B\n",
            "496       Type_C\n",
            "497       Type_J\n",
            "498       Type_J\n",
            "Name: Make, Length: 499, dtype: object\n",
            "0      False\n",
            "1       True\n",
            "2      False\n",
            "3      False\n",
            "4      False\n",
            "       ...  \n",
            "494    False\n",
            "495    False\n",
            "496    False\n",
            "497    False\n",
            "498    False\n",
            "Name: Make, Length: 499, dtype: bool\n"
          ]
        }
      ],
      "source": [
        "print (df_transport['Make'])\n",
        "print (df_transport['Make'].isnull())"
      ]
    },
    {
      "cell_type": "code",
      "execution_count": 14,
      "metadata": {
        "colab": {
          "base_uri": "https://localhost:8080/"
        },
        "id": "5V7APvd79AK6",
        "outputId": "7105f8ec-4344-461b-dc68-602f43c2681d"
      },
      "outputs": [
        {
          "output_type": "stream",
          "name": "stdout",
          "text": [
            "0       2006\n",
            "1       2014\n",
            "2        NaN\n",
            "3       2017\n",
            "4      <2006\n",
            "       ...  \n",
            "494     2010\n",
            "495     2010\n",
            "496     2010\n",
            "497     2010\n",
            "498     2010\n",
            "Name: Model Year, Length: 499, dtype: object\n",
            "0      False\n",
            "1      False\n",
            "2       True\n",
            "3      False\n",
            "4      False\n",
            "       ...  \n",
            "494    False\n",
            "495    False\n",
            "496    False\n",
            "497    False\n",
            "498    False\n",
            "Name: Model Year, Length: 499, dtype: bool\n"
          ]
        }
      ],
      "source": [
        "print (df_transport['Model Year'])\n",
        "print (df_transport['Model Year'].isnull())"
      ]
    },
    {
      "cell_type": "markdown",
      "metadata": {
        "id": "J37lUgHT9AK6"
      },
      "source": [
        "### What can we deduce about the data at this point?\n",
        "\n",
        "First, let's summarize our data by row, column, features, unique, and missing values,"
      ]
    },
    {
      "cell_type": "code",
      "execution_count": 15,
      "metadata": {
        "colab": {
          "base_uri": "https://localhost:8080/"
        },
        "id": "BERA8HNZ9AK6",
        "outputId": "5be797d8-6438-474b-d6da-976aea2d3a05"
      },
      "outputs": [
        {
          "output_type": "stream",
          "name": "stdout",
          "text": [
            "Rows     :  499\n",
            "Columns  :  7\n",
            "\n",
            "Features : \n",
            " ['Date', 'Zip Code', 'Model Year', 'Fuel', 'Make', 'Light_Duty', 'Vehicles']\n",
            "\n",
            "Unique values :  \n",
            " Date          130\n",
            "Zip Code        4\n",
            "Model Year     15\n",
            "Fuel            8\n",
            "Make           43\n",
            "Light_Duty      2\n",
            "Vehicles      151\n",
            "dtype: int64\n",
            "\n",
            "Missing values :   17\n"
          ]
        }
      ],
      "source": [
        "print (\"Rows     : \" ,df_transport.shape[0])\n",
        "print (\"Columns  : \" ,df_transport.shape[1])\n",
        "print (\"\\nFeatures : \\n\" ,df_transport.columns.tolist())\n",
        "print (\"\\nUnique values :  \\n\",df_transport.nunique())\n",
        "print (\"\\nMissing values :  \", df_transport.isnull().sum().values.sum())\n"
      ]
    },
    {
      "cell_type": "markdown",
      "metadata": {
        "id": "CZXYR8cS9AK6"
      },
      "source": [
        "Let's see the data again -- this time the last five rows in the dataset."
      ]
    },
    {
      "cell_type": "code",
      "execution_count": 16,
      "metadata": {
        "colab": {
          "base_uri": "https://localhost:8080/",
          "height": 206
        },
        "id": "xESxVSsX9AK6",
        "outputId": "2d50d3e3-75c0-4016-baa6-4714c19d746c"
      },
      "outputs": [
        {
          "output_type": "execute_result",
          "data": {
            "text/plain": [
              "          Date  Zip Code Model Year      Fuel    Make Light_Duty  Vehicles\n",
              "494  12/3/2018   90002.0       2010  Gasoline  Type_I        Yes      11.0\n",
              "495  12/4/2018   90002.0       2010  Gasoline  Type_B        Yes      58.0\n",
              "496  12/5/2018   90002.0       2010  Gasoline  Type_C        Yes      45.0\n",
              "497  12/6/2018   90002.0       2010  Gasoline  Type_J        Yes      82.0\n",
              "498  12/7/2018   90002.0       2010  Gasoline  Type_J        Yes      12.0"
            ],
            "text/html": [
              "\n",
              "  <div id=\"df-230db1c3-d355-4004-9d69-86a30ac37833\">\n",
              "    <div class=\"colab-df-container\">\n",
              "      <div>\n",
              "<style scoped>\n",
              "    .dataframe tbody tr th:only-of-type {\n",
              "        vertical-align: middle;\n",
              "    }\n",
              "\n",
              "    .dataframe tbody tr th {\n",
              "        vertical-align: top;\n",
              "    }\n",
              "\n",
              "    .dataframe thead th {\n",
              "        text-align: right;\n",
              "    }\n",
              "</style>\n",
              "<table border=\"1\" class=\"dataframe\">\n",
              "  <thead>\n",
              "    <tr style=\"text-align: right;\">\n",
              "      <th></th>\n",
              "      <th>Date</th>\n",
              "      <th>Zip Code</th>\n",
              "      <th>Model Year</th>\n",
              "      <th>Fuel</th>\n",
              "      <th>Make</th>\n",
              "      <th>Light_Duty</th>\n",
              "      <th>Vehicles</th>\n",
              "    </tr>\n",
              "  </thead>\n",
              "  <tbody>\n",
              "    <tr>\n",
              "      <th>494</th>\n",
              "      <td>12/3/2018</td>\n",
              "      <td>90002.0</td>\n",
              "      <td>2010</td>\n",
              "      <td>Gasoline</td>\n",
              "      <td>Type_I</td>\n",
              "      <td>Yes</td>\n",
              "      <td>11.0</td>\n",
              "    </tr>\n",
              "    <tr>\n",
              "      <th>495</th>\n",
              "      <td>12/4/2018</td>\n",
              "      <td>90002.0</td>\n",
              "      <td>2010</td>\n",
              "      <td>Gasoline</td>\n",
              "      <td>Type_B</td>\n",
              "      <td>Yes</td>\n",
              "      <td>58.0</td>\n",
              "    </tr>\n",
              "    <tr>\n",
              "      <th>496</th>\n",
              "      <td>12/5/2018</td>\n",
              "      <td>90002.0</td>\n",
              "      <td>2010</td>\n",
              "      <td>Gasoline</td>\n",
              "      <td>Type_C</td>\n",
              "      <td>Yes</td>\n",
              "      <td>45.0</td>\n",
              "    </tr>\n",
              "    <tr>\n",
              "      <th>497</th>\n",
              "      <td>12/6/2018</td>\n",
              "      <td>90002.0</td>\n",
              "      <td>2010</td>\n",
              "      <td>Gasoline</td>\n",
              "      <td>Type_J</td>\n",
              "      <td>Yes</td>\n",
              "      <td>82.0</td>\n",
              "    </tr>\n",
              "    <tr>\n",
              "      <th>498</th>\n",
              "      <td>12/7/2018</td>\n",
              "      <td>90002.0</td>\n",
              "      <td>2010</td>\n",
              "      <td>Gasoline</td>\n",
              "      <td>Type_J</td>\n",
              "      <td>Yes</td>\n",
              "      <td>12.0</td>\n",
              "    </tr>\n",
              "  </tbody>\n",
              "</table>\n",
              "</div>\n",
              "      <button class=\"colab-df-convert\" onclick=\"convertToInteractive('df-230db1c3-d355-4004-9d69-86a30ac37833')\"\n",
              "              title=\"Convert this dataframe to an interactive table.\"\n",
              "              style=\"display:none;\">\n",
              "        \n",
              "  <svg xmlns=\"http://www.w3.org/2000/svg\" height=\"24px\"viewBox=\"0 0 24 24\"\n",
              "       width=\"24px\">\n",
              "    <path d=\"M0 0h24v24H0V0z\" fill=\"none\"/>\n",
              "    <path d=\"M18.56 5.44l.94 2.06.94-2.06 2.06-.94-2.06-.94-.94-2.06-.94 2.06-2.06.94zm-11 1L8.5 8.5l.94-2.06 2.06-.94-2.06-.94L8.5 2.5l-.94 2.06-2.06.94zm10 10l.94 2.06.94-2.06 2.06-.94-2.06-.94-.94-2.06-.94 2.06-2.06.94z\"/><path d=\"M17.41 7.96l-1.37-1.37c-.4-.4-.92-.59-1.43-.59-.52 0-1.04.2-1.43.59L10.3 9.45l-7.72 7.72c-.78.78-.78 2.05 0 2.83L4 21.41c.39.39.9.59 1.41.59.51 0 1.02-.2 1.41-.59l7.78-7.78 2.81-2.81c.8-.78.8-2.07 0-2.86zM5.41 20L4 18.59l7.72-7.72 1.47 1.35L5.41 20z\"/>\n",
              "  </svg>\n",
              "      </button>\n",
              "      \n",
              "  <style>\n",
              "    .colab-df-container {\n",
              "      display:flex;\n",
              "      flex-wrap:wrap;\n",
              "      gap: 12px;\n",
              "    }\n",
              "\n",
              "    .colab-df-convert {\n",
              "      background-color: #E8F0FE;\n",
              "      border: none;\n",
              "      border-radius: 50%;\n",
              "      cursor: pointer;\n",
              "      display: none;\n",
              "      fill: #1967D2;\n",
              "      height: 32px;\n",
              "      padding: 0 0 0 0;\n",
              "      width: 32px;\n",
              "    }\n",
              "\n",
              "    .colab-df-convert:hover {\n",
              "      background-color: #E2EBFA;\n",
              "      box-shadow: 0px 1px 2px rgba(60, 64, 67, 0.3), 0px 1px 3px 1px rgba(60, 64, 67, 0.15);\n",
              "      fill: #174EA6;\n",
              "    }\n",
              "\n",
              "    [theme=dark] .colab-df-convert {\n",
              "      background-color: #3B4455;\n",
              "      fill: #D2E3FC;\n",
              "    }\n",
              "\n",
              "    [theme=dark] .colab-df-convert:hover {\n",
              "      background-color: #434B5C;\n",
              "      box-shadow: 0px 1px 3px 1px rgba(0, 0, 0, 0.15);\n",
              "      filter: drop-shadow(0px 1px 2px rgba(0, 0, 0, 0.3));\n",
              "      fill: #FFFFFF;\n",
              "    }\n",
              "  </style>\n",
              "\n",
              "      <script>\n",
              "        const buttonEl =\n",
              "          document.querySelector('#df-230db1c3-d355-4004-9d69-86a30ac37833 button.colab-df-convert');\n",
              "        buttonEl.style.display =\n",
              "          google.colab.kernel.accessAllowed ? 'block' : 'none';\n",
              "\n",
              "        async function convertToInteractive(key) {\n",
              "          const element = document.querySelector('#df-230db1c3-d355-4004-9d69-86a30ac37833');\n",
              "          const dataTable =\n",
              "            await google.colab.kernel.invokeFunction('convertToInteractive',\n",
              "                                                     [key], {});\n",
              "          if (!dataTable) return;\n",
              "\n",
              "          const docLinkHtml = 'Like what you see? Visit the ' +\n",
              "            '<a target=\"_blank\" href=https://colab.research.google.com/notebooks/data_table.ipynb>data table notebook</a>'\n",
              "            + ' to learn more about interactive tables.';\n",
              "          element.innerHTML = '';\n",
              "          dataTable['output_type'] = 'display_data';\n",
              "          await google.colab.output.renderOutput(dataTable, element);\n",
              "          const docLink = document.createElement('div');\n",
              "          docLink.innerHTML = docLinkHtml;\n",
              "          element.appendChild(docLink);\n",
              "        }\n",
              "      </script>\n",
              "    </div>\n",
              "  </div>\n",
              "  "
            ]
          },
          "metadata": {},
          "execution_count": 16
        }
      ],
      "source": [
        "df_transport.tail()"
      ]
    },
    {
      "cell_type": "markdown",
      "metadata": {
        "id": "el0ahjH79AK6"
      },
      "source": [
        "### What Are Our Data Quality Issues?\n",
        "\n",
        "1. **Data Quality Issue #1**:  \n",
        "> **Missing Values**:\n",
        "Each feature column has multiple missing values.  In fact, we have a total of 18 missing values.\n",
        "2. **Data Quality Issue #2**: \n",
        "> **Date DataType**:  Date is shown as an \"object\" datatype and should be a datetime.  In addition, Date is in one column.  Our business requirement is to see the Date parsed out to year, month, and day.  \n",
        "3. **Data Quality Issue #3**: \n",
        "> **Model Year**: We are only interested in years greater than 2006, not \"<2006\".\n",
        "4. **Data Quality Issue #4**:  \n",
        "> **Categorical Columns**:  The feature column \"Light_Duty\" is categorical and has a \"Yes/No\" choice.  We cannot feed values like this into a machine learning model.  In addition, we need to \"one-hot encode the remaining \"string\"/\"object\" columns.\n",
        "5. **Data Quality Issue #5**:  \n",
        "> **Temporal Features**:  How do we handle year, month, and day?\n"
      ]
    },
    {
      "cell_type": "markdown",
      "metadata": {
        "id": "PGacdAXL9AK6"
      },
      "source": [
        "#### Data Quality Issue #1:  \n",
        "##### Resolving Missing Values"
      ]
    },
    {
      "cell_type": "markdown",
      "metadata": {
        "id": "gCO-dNx59AK6"
      },
      "source": [
        "Most algorithms do not accept missing values.  Yet, when we see missing values in our dataset, there is always a tendency to just \"drop all the rows\" with missing values.  Although Pandas will fill in the blank space with “NaN\", we should \"handle\" them in some way.\n",
        "\n",
        "While all the methods to handle missing values is beyond the scope of this lab, there are a few methods you should consider.  For numeric columns, use the \"mean\" values to fill in the missing numeric values.  For categorical columns, use the \"mode\" (or most frequent values) to fill in missing categorical values. \n",
        "\n",
        "In this lab, we use the .apply and Lambda functions to fill every column with its own most frequent value.  You'll learn more about Lambda functions later in the lab."
      ]
    },
    {
      "cell_type": "markdown",
      "metadata": {
        "id": "W431nT769ALK"
      },
      "source": [
        "Let's check again for missing values by showing how many rows contain NaN values for each feature column."
      ]
    },
    {
      "cell_type": "markdown",
      "metadata": {
        "id": "2T4CKDRs9ALK"
      },
      "source": [
        "**Lab Task #1a:** Check for missing values by showing how many rows contain NaN values for each feature column."
      ]
    },
    {
      "cell_type": "code",
      "execution_count": 17,
      "metadata": {
        "colab": {
          "base_uri": "https://localhost:8080/"
        },
        "id": "QMF1xiN79ALK",
        "outputId": "7c745aeb-4aa5-42f5-8c42-81d208ba7849"
      },
      "outputs": [
        {
          "output_type": "execute_result",
          "data": {
            "text/plain": [
              "Date          2\n",
              "Zip Code      2\n",
              "Model Year    2\n",
              "Fuel          2\n",
              "Make          3\n",
              "Light_Duty    3\n",
              "Vehicles      3\n",
              "dtype: int64"
            ]
          },
          "metadata": {},
          "execution_count": 17
        }
      ],
      "source": [
        "# TODO 1a\n",
        "# TODO -- Your code here.\n",
        "df_transport.isnull().sum()"
      ]
    },
    {
      "cell_type": "markdown",
      "metadata": {
        "id": "kmMMAuk-9ALK"
      },
      "source": [
        "**Lab Task #1b:** Apply the lambda function."
      ]
    },
    {
      "cell_type": "code",
      "execution_count": 18,
      "metadata": {
        "id": "TlVADA5d9ALK"
      },
      "outputs": [],
      "source": [
        "# TODO 1b\n",
        "# TODO -- Your code here.\n",
        "df_transport = df_transport.apply(lambda x:x.fillna(x.value_counts().index[0]))"
      ]
    },
    {
      "cell_type": "markdown",
      "metadata": {
        "id": "iPgFnRar9ALK"
      },
      "source": [
        "**Lab Task #1c:** Check again for missing values."
      ]
    },
    {
      "cell_type": "code",
      "execution_count": 19,
      "metadata": {
        "colab": {
          "base_uri": "https://localhost:8080/"
        },
        "id": "cA61VSJu9ALK",
        "outputId": "21e2e082-9eb1-44b6-8350-5ecf9d1e30c2"
      },
      "outputs": [
        {
          "output_type": "execute_result",
          "data": {
            "text/plain": [
              "Date          0\n",
              "Zip Code      0\n",
              "Model Year    0\n",
              "Fuel          0\n",
              "Make          0\n",
              "Light_Duty    0\n",
              "Vehicles      0\n",
              "dtype: int64"
            ]
          },
          "metadata": {},
          "execution_count": 19
        }
      ],
      "source": [
        "# TODO 1c\n",
        "# TODO -- Your code here.\n",
        "df_transport.isnull().sum()"
      ]
    },
    {
      "cell_type": "markdown",
      "metadata": {
        "id": "3C_IL_7r9ALK"
      },
      "source": [
        "#### Data Quality Issue #2:  \n",
        "##### Convert the Date Feature Column to a Datetime Format"
      ]
    },
    {
      "cell_type": "markdown",
      "metadata": {
        "id": "5NPNDdDm9ALK"
      },
      "source": [
        "The date column is indeed shown as a string object."
      ]
    },
    {
      "cell_type": "markdown",
      "metadata": {
        "id": "05vpo9kB9ALK"
      },
      "source": [
        "**Lab Task #2a:** Convert the datetime datatype with the to_datetime() function in Pandas."
      ]
    },
    {
      "cell_type": "code",
      "execution_count": 20,
      "metadata": {
        "id": "S8hZATGn9ALK"
      },
      "outputs": [],
      "source": [
        "# TODO 2a\n",
        "# TODO -- Your code here.\n",
        "df_transport['Date'] = pd.to_datetime(df_transport['Date'], format='%m/%d/%Y')\n"
      ]
    },
    {
      "cell_type": "markdown",
      "metadata": {
        "id": "My0sZDK79ALK"
      },
      "source": [
        "**Lab Task #2b:** Show the converted Date."
      ]
    },
    {
      "cell_type": "code",
      "execution_count": 21,
      "metadata": {
        "colab": {
          "base_uri": "https://localhost:8080/"
        },
        "id": "4yowG26U9ALK",
        "outputId": "61022383-1b41-4d28-e4f1-350c6c8ea1e9"
      },
      "outputs": [
        {
          "output_type": "stream",
          "name": "stdout",
          "text": [
            "<class 'pandas.core.frame.DataFrame'>\n",
            "RangeIndex: 499 entries, 0 to 498\n",
            "Data columns (total 7 columns):\n",
            " #   Column      Non-Null Count  Dtype         \n",
            "---  ------      --------------  -----         \n",
            " 0   Date        499 non-null    datetime64[ns]\n",
            " 1   Zip Code    499 non-null    float64       \n",
            " 2   Model Year  499 non-null    object        \n",
            " 3   Fuel        499 non-null    object        \n",
            " 4   Make        499 non-null    object        \n",
            " 5   Light_Duty  499 non-null    object        \n",
            " 6   Vehicles    499 non-null    float64       \n",
            "dtypes: datetime64[ns](1), float64(2), object(4)\n",
            "memory usage: 27.4+ KB\n"
          ]
        }
      ],
      "source": [
        "# TODO 2b\n",
        "# TODO -- Your code here.\n",
        "df_transport.info()"
      ]
    },
    {
      "cell_type": "markdown",
      "metadata": {
        "id": "5lIFBxZ59ALK"
      },
      "source": [
        "Let's parse Date into three columns, e.g. year, month, and day."
      ]
    },
    {
      "cell_type": "code",
      "execution_count": 22,
      "metadata": {
        "colab": {
          "base_uri": "https://localhost:8080/"
        },
        "id": "up92g6Oy9ALK",
        "outputId": "7810e9a3-eb29-4566-e997-02e740617aab"
      },
      "outputs": [
        {
          "output_type": "stream",
          "name": "stdout",
          "text": [
            "<class 'pandas.core.frame.DataFrame'>\n",
            "RangeIndex: 499 entries, 0 to 498\n",
            "Data columns (total 10 columns):\n",
            " #   Column      Non-Null Count  Dtype         \n",
            "---  ------      --------------  -----         \n",
            " 0   Date        499 non-null    datetime64[ns]\n",
            " 1   Zip Code    499 non-null    float64       \n",
            " 2   Model Year  499 non-null    object        \n",
            " 3   Fuel        499 non-null    object        \n",
            " 4   Make        499 non-null    object        \n",
            " 5   Light_Duty  499 non-null    object        \n",
            " 6   Vehicles    499 non-null    float64       \n",
            " 7   year        499 non-null    int64         \n",
            " 8   month       499 non-null    int64         \n",
            " 9   day         499 non-null    int64         \n",
            "dtypes: datetime64[ns](1), float64(2), int64(3), object(4)\n",
            "memory usage: 39.1+ KB\n"
          ]
        }
      ],
      "source": [
        "df_transport['year'] = df_transport['Date'].dt.year\n",
        "df_transport['month'] = df_transport['Date'].dt.month\n",
        "df_transport['day'] = df_transport['Date'].dt.day\n",
        "#df['hour'] = df['date'].dt.hour - you could use this if your date format included hour.\n",
        "#df['minute'] = df['date'].dt.minute - you could use this if your date format included minute.\n",
        "df_transport.info()"
      ]
    },
    {
      "cell_type": "markdown",
      "metadata": {
        "id": "NYpOMcKh9ALK"
      },
      "source": [
        "Next, let's confirm the Date parsing.  This will also give us a another visualization of the data."
      ]
    },
    {
      "cell_type": "code",
      "execution_count": 23,
      "metadata": {
        "colab": {
          "base_uri": "https://localhost:8080/",
          "height": 269
        },
        "id": "9aGeOwnF9ALK",
        "outputId": "401b7413-1a53-47d9-d8a2-e2c7a7ad9b15"
      },
      "outputs": [
        {
          "output_type": "execute_result",
          "data": {
            "text/plain": [
              "            Date  Zip Code Model Year      Fuel       Make Light_Duty  \\\n",
              "month                                                                   \n",
              "1     2019-01-01   90001.0       2016  Gasoline     Type_G        Yes   \n",
              "2     2019-02-01   90001.0       2017  Gasoline     Type_D        Yes   \n",
              "3     2019-03-01   90001.0       2018  Gasoline     Type_C        Yes   \n",
              "10    2018-10-01   90000.0       2006  Gasoline  OTHER/UNK        Yes   \n",
              "11    2018-11-01   90001.0       2007  Gasoline     Type_M        Yes   \n",
              "12    2018-12-02   90001.0       2015  Gasoline     Type_G        Yes   \n",
              "\n",
              "       Vehicles  year  day  \n",
              "month                       \n",
              "1          18.0  2019    1  \n",
              "2          13.0  2019    1  \n",
              "3          32.0  2019    1  \n",
              "10          1.0  2018    1  \n",
              "11         15.0  2018    1  \n",
              "12         19.0  2018    2  "
            ],
            "text/html": [
              "\n",
              "  <div id=\"df-7864460f-cb39-4b86-9714-d347aeda64b2\">\n",
              "    <div class=\"colab-df-container\">\n",
              "      <div>\n",
              "<style scoped>\n",
              "    .dataframe tbody tr th:only-of-type {\n",
              "        vertical-align: middle;\n",
              "    }\n",
              "\n",
              "    .dataframe tbody tr th {\n",
              "        vertical-align: top;\n",
              "    }\n",
              "\n",
              "    .dataframe thead th {\n",
              "        text-align: right;\n",
              "    }\n",
              "</style>\n",
              "<table border=\"1\" class=\"dataframe\">\n",
              "  <thead>\n",
              "    <tr style=\"text-align: right;\">\n",
              "      <th></th>\n",
              "      <th>Date</th>\n",
              "      <th>Zip Code</th>\n",
              "      <th>Model Year</th>\n",
              "      <th>Fuel</th>\n",
              "      <th>Make</th>\n",
              "      <th>Light_Duty</th>\n",
              "      <th>Vehicles</th>\n",
              "      <th>year</th>\n",
              "      <th>day</th>\n",
              "    </tr>\n",
              "    <tr>\n",
              "      <th>month</th>\n",
              "      <th></th>\n",
              "      <th></th>\n",
              "      <th></th>\n",
              "      <th></th>\n",
              "      <th></th>\n",
              "      <th></th>\n",
              "      <th></th>\n",
              "      <th></th>\n",
              "      <th></th>\n",
              "    </tr>\n",
              "  </thead>\n",
              "  <tbody>\n",
              "    <tr>\n",
              "      <th>1</th>\n",
              "      <td>2019-01-01</td>\n",
              "      <td>90001.0</td>\n",
              "      <td>2016</td>\n",
              "      <td>Gasoline</td>\n",
              "      <td>Type_G</td>\n",
              "      <td>Yes</td>\n",
              "      <td>18.0</td>\n",
              "      <td>2019</td>\n",
              "      <td>1</td>\n",
              "    </tr>\n",
              "    <tr>\n",
              "      <th>2</th>\n",
              "      <td>2019-02-01</td>\n",
              "      <td>90001.0</td>\n",
              "      <td>2017</td>\n",
              "      <td>Gasoline</td>\n",
              "      <td>Type_D</td>\n",
              "      <td>Yes</td>\n",
              "      <td>13.0</td>\n",
              "      <td>2019</td>\n",
              "      <td>1</td>\n",
              "    </tr>\n",
              "    <tr>\n",
              "      <th>3</th>\n",
              "      <td>2019-03-01</td>\n",
              "      <td>90001.0</td>\n",
              "      <td>2018</td>\n",
              "      <td>Gasoline</td>\n",
              "      <td>Type_C</td>\n",
              "      <td>Yes</td>\n",
              "      <td>32.0</td>\n",
              "      <td>2019</td>\n",
              "      <td>1</td>\n",
              "    </tr>\n",
              "    <tr>\n",
              "      <th>10</th>\n",
              "      <td>2018-10-01</td>\n",
              "      <td>90000.0</td>\n",
              "      <td>2006</td>\n",
              "      <td>Gasoline</td>\n",
              "      <td>OTHER/UNK</td>\n",
              "      <td>Yes</td>\n",
              "      <td>1.0</td>\n",
              "      <td>2018</td>\n",
              "      <td>1</td>\n",
              "    </tr>\n",
              "    <tr>\n",
              "      <th>11</th>\n",
              "      <td>2018-11-01</td>\n",
              "      <td>90001.0</td>\n",
              "      <td>2007</td>\n",
              "      <td>Gasoline</td>\n",
              "      <td>Type_M</td>\n",
              "      <td>Yes</td>\n",
              "      <td>15.0</td>\n",
              "      <td>2018</td>\n",
              "      <td>1</td>\n",
              "    </tr>\n",
              "    <tr>\n",
              "      <th>12</th>\n",
              "      <td>2018-12-02</td>\n",
              "      <td>90001.0</td>\n",
              "      <td>2015</td>\n",
              "      <td>Gasoline</td>\n",
              "      <td>Type_G</td>\n",
              "      <td>Yes</td>\n",
              "      <td>19.0</td>\n",
              "      <td>2018</td>\n",
              "      <td>2</td>\n",
              "    </tr>\n",
              "  </tbody>\n",
              "</table>\n",
              "</div>\n",
              "      <button class=\"colab-df-convert\" onclick=\"convertToInteractive('df-7864460f-cb39-4b86-9714-d347aeda64b2')\"\n",
              "              title=\"Convert this dataframe to an interactive table.\"\n",
              "              style=\"display:none;\">\n",
              "        \n",
              "  <svg xmlns=\"http://www.w3.org/2000/svg\" height=\"24px\"viewBox=\"0 0 24 24\"\n",
              "       width=\"24px\">\n",
              "    <path d=\"M0 0h24v24H0V0z\" fill=\"none\"/>\n",
              "    <path d=\"M18.56 5.44l.94 2.06.94-2.06 2.06-.94-2.06-.94-.94-2.06-.94 2.06-2.06.94zm-11 1L8.5 8.5l.94-2.06 2.06-.94-2.06-.94L8.5 2.5l-.94 2.06-2.06.94zm10 10l.94 2.06.94-2.06 2.06-.94-2.06-.94-.94-2.06-.94 2.06-2.06.94z\"/><path d=\"M17.41 7.96l-1.37-1.37c-.4-.4-.92-.59-1.43-.59-.52 0-1.04.2-1.43.59L10.3 9.45l-7.72 7.72c-.78.78-.78 2.05 0 2.83L4 21.41c.39.39.9.59 1.41.59.51 0 1.02-.2 1.41-.59l7.78-7.78 2.81-2.81c.8-.78.8-2.07 0-2.86zM5.41 20L4 18.59l7.72-7.72 1.47 1.35L5.41 20z\"/>\n",
              "  </svg>\n",
              "      </button>\n",
              "      \n",
              "  <style>\n",
              "    .colab-df-container {\n",
              "      display:flex;\n",
              "      flex-wrap:wrap;\n",
              "      gap: 12px;\n",
              "    }\n",
              "\n",
              "    .colab-df-convert {\n",
              "      background-color: #E8F0FE;\n",
              "      border: none;\n",
              "      border-radius: 50%;\n",
              "      cursor: pointer;\n",
              "      display: none;\n",
              "      fill: #1967D2;\n",
              "      height: 32px;\n",
              "      padding: 0 0 0 0;\n",
              "      width: 32px;\n",
              "    }\n",
              "\n",
              "    .colab-df-convert:hover {\n",
              "      background-color: #E2EBFA;\n",
              "      box-shadow: 0px 1px 2px rgba(60, 64, 67, 0.3), 0px 1px 3px 1px rgba(60, 64, 67, 0.15);\n",
              "      fill: #174EA6;\n",
              "    }\n",
              "\n",
              "    [theme=dark] .colab-df-convert {\n",
              "      background-color: #3B4455;\n",
              "      fill: #D2E3FC;\n",
              "    }\n",
              "\n",
              "    [theme=dark] .colab-df-convert:hover {\n",
              "      background-color: #434B5C;\n",
              "      box-shadow: 0px 1px 3px 1px rgba(0, 0, 0, 0.15);\n",
              "      filter: drop-shadow(0px 1px 2px rgba(0, 0, 0, 0.3));\n",
              "      fill: #FFFFFF;\n",
              "    }\n",
              "  </style>\n",
              "\n",
              "      <script>\n",
              "        const buttonEl =\n",
              "          document.querySelector('#df-7864460f-cb39-4b86-9714-d347aeda64b2 button.colab-df-convert');\n",
              "        buttonEl.style.display =\n",
              "          google.colab.kernel.accessAllowed ? 'block' : 'none';\n",
              "\n",
              "        async function convertToInteractive(key) {\n",
              "          const element = document.querySelector('#df-7864460f-cb39-4b86-9714-d347aeda64b2');\n",
              "          const dataTable =\n",
              "            await google.colab.kernel.invokeFunction('convertToInteractive',\n",
              "                                                     [key], {});\n",
              "          if (!dataTable) return;\n",
              "\n",
              "          const docLinkHtml = 'Like what you see? Visit the ' +\n",
              "            '<a target=\"_blank\" href=https://colab.research.google.com/notebooks/data_table.ipynb>data table notebook</a>'\n",
              "            + ' to learn more about interactive tables.';\n",
              "          element.innerHTML = '';\n",
              "          dataTable['output_type'] = 'display_data';\n",
              "          await google.colab.output.renderOutput(dataTable, element);\n",
              "          const docLink = document.createElement('div');\n",
              "          docLink.innerHTML = docLinkHtml;\n",
              "          element.appendChild(docLink);\n",
              "        }\n",
              "      </script>\n",
              "    </div>\n",
              "  </div>\n",
              "  "
            ]
          },
          "metadata": {},
          "execution_count": 23
        }
      ],
      "source": [
        "# Here, we are creating a new dataframe called \"grouped_data\" and grouping by on the column \"Make\"\n",
        "grouped_data = df_transport.groupby(['Make'])\n",
        "\n",
        "# Get the first entry for each month.\n",
        "df_transport.groupby('month').first()"
      ]
    },
    {
      "cell_type": "markdown",
      "metadata": {
        "id": "DsYZ1e4N9ALK"
      },
      "source": [
        "Now that we have Dates as a integers, let's do some additional plotting."
      ]
    },
    {
      "cell_type": "code",
      "execution_count": 24,
      "metadata": {
        "colab": {
          "base_uri": "https://localhost:8080/",
          "height": 476
        },
        "id": "iOAdIi-x9ALK",
        "outputId": "7d0474c8-dd30-40ac-de5a-e385ed72c1d0"
      },
      "outputs": [
        {
          "output_type": "execute_result",
          "data": {
            "text/plain": [
              "<seaborn.axisgrid.JointGrid at 0x7faa5c62fd50>"
            ]
          },
          "metadata": {},
          "execution_count": 24
        },
        {
          "output_type": "display_data",
          "data": {
            "text/plain": [
              "<Figure size 720x432 with 0 Axes>"
            ]
          },
          "metadata": {}
        },
        {
          "output_type": "display_data",
          "data": {
            "text/plain": [
              "<Figure size 432x432 with 3 Axes>"
            ],
            "image/png": "[encoded data removed]"
          },
          "metadata": {
            "needs_background": "light"
          }
        }
      ],
      "source": [
        "plt.figure(figsize=(10,6))\n",
        "sns.jointplot(x='month',y='Vehicles',data=df_transport)\n",
        "#plt.title('Vehicles by Month')"
      ]
    },
    {
      "cell_type": "markdown",
      "metadata": {
        "id": "4Je3yIio9ALK"
      },
      "source": [
        "#### Data Quality Issue #3:  \n",
        "##### Rename a Feature Column and Remove a Value.  \n",
        "\n",
        "Our feature columns have different \"capitalizations\" in their names, e.g. both upper and lower \"case\".  In addition, there are \"spaces\" in some of the column names.  In addition, we are only interested in years greater than 2006, not \"<2006\".  "
      ]
    },
    {
      "cell_type": "markdown",
      "metadata": {
        "id": "uv1gcPzY9ALK"
      },
      "source": [
        "**Lab Task #3a:** Remove all the spaces for feature columns by renaming them."
      ]
    },
    {
      "cell_type": "code",
      "execution_count": 33,
      "metadata": {
        "colab": {
          "base_uri": "https://localhost:8080/",
          "height": 112
        },
        "id": "F1wcBzbl9ALK",
        "outputId": "ff64b6ec-0b46-49ad-8377-e5e2719b720a"
      },
      "outputs": [
        {
          "output_type": "execute_result",
          "data": {
            "text/plain": [
              "        Date  Zip Code Model Year      Fuel       Make Light_Duty  Vehicles  \\\n",
              "0 2018-10-01   90000.0       2006  Gasoline  OTHER/UNK        Yes       1.0   \n",
              "1 2018-10-01   90001.0       2014  Gasoline  OTHER/UNK        Yes       1.0   \n",
              "\n",
              "   year  month  day  \n",
              "0  2018     10    1  \n",
              "1  2018     10    1  "
            ],
            "text/html": [
              "\n",
              "  <div id=\"df-0b97b8cb-dae5-4ad3-8607-d4e15c53a058\">\n",
              "    <div class=\"colab-df-container\">\n",
              "      <div>\n",
              "<style scoped>\n",
              "    .dataframe tbody tr th:only-of-type {\n",
              "        vertical-align: middle;\n",
              "    }\n",
              "\n",
              "    .dataframe tbody tr th {\n",
              "        vertical-align: top;\n",
              "    }\n",
              "\n",
              "    .dataframe thead th {\n",
              "        text-align: right;\n",
              "    }\n",
              "</style>\n",
              "<table border=\"1\" class=\"dataframe\">\n",
              "  <thead>\n",
              "    <tr style=\"text-align: right;\">\n",
              "      <th></th>\n",
              "      <th>Date</th>\n",
              "      <th>Zip Code</th>\n",
              "      <th>Model Year</th>\n",
              "      <th>Fuel</th>\n",
              "      <th>Make</th>\n",
              "      <th>Light_Duty</th>\n",
              "      <th>Vehicles</th>\n",
              "      <th>year</th>\n",
              "      <th>month</th>\n",
              "      <th>day</th>\n",
              "    </tr>\n",
              "  </thead>\n",
              "  <tbody>\n",
              "    <tr>\n",
              "      <th>0</th>\n",
              "      <td>2018-10-01</td>\n",
              "      <td>90000.0</td>\n",
              "      <td>2006</td>\n",
              "      <td>Gasoline</td>\n",
              "      <td>OTHER/UNK</td>\n",
              "      <td>Yes</td>\n",
              "      <td>1.0</td>\n",
              "      <td>2018</td>\n",
              "      <td>10</td>\n",
              "      <td>1</td>\n",
              "    </tr>\n",
              "    <tr>\n",
              "      <th>1</th>\n",
              "      <td>2018-10-01</td>\n",
              "      <td>90001.0</td>\n",
              "      <td>2014</td>\n",
              "      <td>Gasoline</td>\n",
              "      <td>OTHER/UNK</td>\n",
              "      <td>Yes</td>\n",
              "      <td>1.0</td>\n",
              "      <td>2018</td>\n",
              "      <td>10</td>\n",
              "      <td>1</td>\n",
              "    </tr>\n",
              "  </tbody>\n",
              "</table>\n",
              "</div>\n",
              "      <button class=\"colab-df-convert\" onclick=\"convertToInteractive('df-0b97b8cb-dae5-4ad3-8607-d4e15c53a058')\"\n",
              "              title=\"Convert this dataframe to an interactive table.\"\n",
              "              style=\"display:none;\">\n",
              "        \n",
              "  <svg xmlns=\"http://www.w3.org/2000/svg\" height=\"24px\"viewBox=\"0 0 24 24\"\n",
              "       width=\"24px\">\n",
              "    <path d=\"M0 0h24v24H0V0z\" fill=\"none\"/>\n",
              "    <path d=\"M18.56 5.44l.94 2.06.94-2.06 2.06-.94-2.06-.94-.94-2.06-.94 2.06-2.06.94zm-11 1L8.5 8.5l.94-2.06 2.06-.94-2.06-.94L8.5 2.5l-.94 2.06-2.06.94zm10 10l.94 2.06.94-2.06 2.06-.94-2.06-.94-.94-2.06-.94 2.06-2.06.94z\"/><path d=\"M17.41 7.96l-1.37-1.37c-.4-.4-.92-.59-1.43-.59-.52 0-1.04.2-1.43.59L10.3 9.45l-7.72 7.72c-.78.78-.78 2.05 0 2.83L4 21.41c.39.39.9.59 1.41.59.51 0 1.02-.2 1.41-.59l7.78-7.78 2.81-2.81c.8-.78.8-2.07 0-2.86zM5.41 20L4 18.59l7.72-7.72 1.47 1.35L5.41 20z\"/>\n",
              "  </svg>\n",
              "      </button>\n",
              "      \n",
              "  <style>\n",
              "    .colab-df-container {\n",
              "      display:flex;\n",
              "      flex-wrap:wrap;\n",
              "      gap: 12px;\n",
              "    }\n",
              "\n",
              "    .colab-df-convert {\n",
              "      background-color: #E8F0FE;\n",
              "      border: none;\n",
              "      border-radius: 50%;\n",
              "      cursor: pointer;\n",
              "      display: none;\n",
              "      fill: #1967D2;\n",
              "      height: 32px;\n",
              "      padding: 0 0 0 0;\n",
              "      width: 32px;\n",
              "    }\n",
              "\n",
              "    .colab-df-convert:hover {\n",
              "      background-color: #E2EBFA;\n",
              "      box-shadow: 0px 1px 2px rgba(60, 64, 67, 0.3), 0px 1px 3px 1px rgba(60, 64, 67, 0.15);\n",
              "      fill: #174EA6;\n",
              "    }\n",
              "\n",
              "    [theme=dark] .colab-df-convert {\n",
              "      background-color: #3B4455;\n",
              "      fill: #D2E3FC;\n",
              "    }\n",
              "\n",
              "    [theme=dark] .colab-df-convert:hover {\n",
              "      background-color: #434B5C;\n",
              "      box-shadow: 0px 1px 3px 1px rgba(0, 0, 0, 0.15);\n",
              "      filter: drop-shadow(0px 1px 2px rgba(0, 0, 0, 0.3));\n",
              "      fill: #FFFFFF;\n",
              "    }\n",
              "  </style>\n",
              "\n",
              "      <script>\n",
              "        const buttonEl =\n",
              "          document.querySelector('#df-0b97b8cb-dae5-4ad3-8607-d4e15c53a058 button.colab-df-convert');\n",
              "        buttonEl.style.display =\n",
              "          google.colab.kernel.accessAllowed ? 'block' : 'none';\n",
              "\n",
              "        async function convertToInteractive(key) {\n",
              "          const element = document.querySelector('#df-0b97b8cb-dae5-4ad3-8607-d4e15c53a058');\n",
              "          const dataTable =\n",
              "            await google.colab.kernel.invokeFunction('convertToInteractive',\n",
              "                                                     [key], {});\n",
              "          if (!dataTable) return;\n",
              "\n",
              "          const docLinkHtml = 'Like what you see? Visit the ' +\n",
              "            '<a target=\"_blank\" href=https://colab.research.google.com/notebooks/data_table.ipynb>data table notebook</a>'\n",
              "            + ' to learn more about interactive tables.';\n",
              "          element.innerHTML = '';\n",
              "          dataTable['output_type'] = 'display_data';\n",
              "          await google.colab.output.renderOutput(dataTable, element);\n",
              "          const docLink = document.createElement('div');\n",
              "          docLink.innerHTML = docLinkHtml;\n",
              "          element.appendChild(docLink);\n",
              "        }\n",
              "      </script>\n",
              "    </div>\n",
              "  </div>\n",
              "  "
            ]
          },
          "metadata": {},
          "execution_count": 33
        }
      ],
      "source": [
        "# TODO 3a\n",
        "# TODO -- Your code here.\n",
        "df_transport.rename(columns = {'Date': 'date', 'Zip Code': 'zipcode', 'Model Year':'ModelYear', 'Fuel': 'fuel', 'Make': 'make', 'Light_Duty': 'LightDuty', 'Vehicles': 'Vehicles','year':'year','day':'day',\n",
        "'month':'month'})\n",
        "df_transport.head(2)\n"
      ]
    },
    {
      "cell_type": "markdown",
      "metadata": {
        "id": "eiC0SrO29ALK"
      },
      "source": [
        " **Note:** Next we create a copy of the dataframe to avoid the \"SettingWithCopyWarning: A value is trying to be set on a copy of a slice from a DataFrame\" warning.  Run the cell to remove the value '<2006' from the modelyear feature column. "
      ]
    },
    {
      "cell_type": "markdown",
      "metadata": {
        "id": "4DabYnJS9ALZ"
      },
      "source": [
        "**Lab Task #3b:** Create a copy of the dataframe to avoid copy warning issues."
      ]
    },
    {
      "cell_type": "code",
      "execution_count": 40,
      "metadata": {
        "colab": {
          "base_uri": "https://localhost:8080/",
          "height": 321
        },
        "id": "9gPDf59u9ALZ",
        "outputId": "d56b4629-d25e-40ab-b5b9-68d589fa0496"
      },
      "outputs": [
        {
          "output_type": "error",
          "ename": "AttributeError",
          "evalue": "ignored",
          "traceback": [
            "\u001b[0;31m---------------------------------------------------------------------------\u001b[0m",
            "\u001b[0;31mAttributeError\u001b[0m                            Traceback (most recent call last)",
            "\u001b[0;32m<ipython-input-40-322dc3d7fa33>\u001b[0m in \u001b[0;36m<module>\u001b[0;34m\u001b[0m\n\u001b[1;32m      1\u001b[0m \u001b[0;31m# TODO 3b\u001b[0m\u001b[0;34m\u001b[0m\u001b[0;34m\u001b[0m\u001b[0;34m\u001b[0m\u001b[0m\n\u001b[1;32m      2\u001b[0m \u001b[0;31m# TODO -- Your code here.\u001b[0m\u001b[0;34m\u001b[0m\u001b[0;34m\u001b[0m\u001b[0;34m\u001b[0m\u001b[0m\n\u001b[0;32m----> 3\u001b[0;31m \u001b[0mdf\u001b[0m\u001b[0;34m=\u001b[0m\u001b[0mdf_transport\u001b[0m\u001b[0;34m.\u001b[0m\u001b[0mloc\u001b[0m\u001b[0;34m[\u001b[0m\u001b[0mdf_transport\u001b[0m\u001b[0;34m.\u001b[0m\u001b[0mmodelyear\u001b[0m \u001b[0;34m!=\u001b[0m \u001b[0;34m'<2006'\u001b[0m\u001b[0;34m]\u001b[0m\u001b[0;34m.\u001b[0m\u001b[0mcopy\u001b[0m\u001b[0;34m(\u001b[0m\u001b[0;34m)\u001b[0m\u001b[0;34m\u001b[0m\u001b[0;34m\u001b[0m\u001b[0m\n\u001b[0m",
            "\u001b[0;32m/usr/local/lib/python3.7/dist-packages/pandas/core/generic.py\u001b[0m in \u001b[0;36m__getattr__\u001b[0;34m(self, name)\u001b[0m\n\u001b[1;32m   5485\u001b[0m         ):\n\u001b[1;32m   5486\u001b[0m             \u001b[0;32mreturn\u001b[0m \u001b[0mself\u001b[0m\u001b[0;34m[\u001b[0m\u001b[0mname\u001b[0m\u001b[0;34m]\u001b[0m\u001b[0;34m\u001b[0m\u001b[0;34m\u001b[0m\u001b[0m\n\u001b[0;32m-> 5487\u001b[0;31m         \u001b[0;32mreturn\u001b[0m \u001b[0mobject\u001b[0m\u001b[0;34m.\u001b[0m\u001b[0m__getattribute__\u001b[0m\u001b[0;34m(\u001b[0m\u001b[0mself\u001b[0m\u001b[0;34m,\u001b[0m \u001b[0mname\u001b[0m\u001b[0;34m)\u001b[0m\u001b[0;34m\u001b[0m\u001b[0;34m\u001b[0m\u001b[0m\n\u001b[0m\u001b[1;32m   5488\u001b[0m \u001b[0;34m\u001b[0m\u001b[0m\n\u001b[1;32m   5489\u001b[0m     \u001b[0;32mdef\u001b[0m \u001b[0m__setattr__\u001b[0m\u001b[0;34m(\u001b[0m\u001b[0mself\u001b[0m\u001b[0;34m,\u001b[0m \u001b[0mname\u001b[0m\u001b[0;34m:\u001b[0m \u001b[0mstr\u001b[0m\u001b[0;34m,\u001b[0m \u001b[0mvalue\u001b[0m\u001b[0;34m)\u001b[0m \u001b[0;34m->\u001b[0m \u001b[0;32mNone\u001b[0m\u001b[0;34m:\u001b[0m\u001b[0;34m\u001b[0m\u001b[0;34m\u001b[0m\u001b[0m\n",
            "\u001b[0;31mAttributeError\u001b[0m: 'DataFrame' object has no attribute 'modelyear'"
          ]
        }
      ],
      "source": [
        "# TODO 3b\n",
        "# TODO -- Your code here.\n",
        "df=df_transport.loc[df_transport.modelyear != '<2006'].copy()"
      ]
    },
    {
      "cell_type": "markdown",
      "metadata": {
        "id": "bMmOaWgp9ALZ"
      },
      "source": [
        "Next, confirm that the modelyear value '<2006' has been removed by doing a value count."
      ]
    },
    {
      "cell_type": "code",
      "execution_count": 39,
      "metadata": {
        "colab": {
          "base_uri": "https://localhost:8080/",
          "height": 165
        },
        "id": "-7w57OUm9ALZ",
        "outputId": "a31a91af-9b94-4115-efe9-db71002a891e"
      },
      "outputs": [
        {
          "output_type": "error",
          "ename": "NameError",
          "evalue": "ignored",
          "traceback": [
            "\u001b[0;31m---------------------------------------------------------------------------\u001b[0m",
            "\u001b[0;31mNameError\u001b[0m                                 Traceback (most recent call last)",
            "\u001b[0;32m<ipython-input-39-c2b811347cb0>\u001b[0m in \u001b[0;36m<module>\u001b[0;34m\u001b[0m\n\u001b[0;32m----> 1\u001b[0;31m \u001b[0mdf\u001b[0m\u001b[0;34m[\u001b[0m\u001b[0;34m'modelyear'\u001b[0m\u001b[0;34m]\u001b[0m\u001b[0;34m.\u001b[0m\u001b[0mvalue_counts\u001b[0m\u001b[0;34m(\u001b[0m\u001b[0;36m0\u001b[0m\u001b[0;34m)\u001b[0m\u001b[0;34m\u001b[0m\u001b[0;34m\u001b[0m\u001b[0m\n\u001b[0m",
            "\u001b[0;31mNameError\u001b[0m: name 'df' is not defined"
          ]
        }
      ],
      "source": [
        "df['modelyear'].value_counts(0)"
      ]
    },
    {
      "cell_type": "markdown",
      "metadata": {
        "id": "TvgZVala9ALZ"
      },
      "source": [
        "#### Data Quality Issue #4:  \n",
        "##### Handling Categorical Columns\n",
        "\n",
        "The feature column \"lightduty\" is categorical and has a \"Yes/No\" choice.  We cannot feed values like this into a machine learning model.  We need to convert the binary answers from strings of yes/no to integers of 1/0.  There are various methods to achieve this.  We will use the \"apply\" method with a lambda expression.  Pandas. apply() takes a function and applies it to all values of a Pandas series.\n",
        "\n",
        "##### What is a Lambda Function?\n",
        "\n",
        "Typically, Python requires that you define a function using the def keyword. However, lambda functions are anonymous -- which means there is no need to name them. The most common use case for lambda functions is in code that requires a simple one-line function (e.g. lambdas only have a single expression).  \n",
        "\n",
        "As you progress through the Course Specialization, you will see many examples where lambda functions are being used.  Now is a good time to become familiar with them."
      ]
    },
    {
      "cell_type": "markdown",
      "metadata": {
        "id": "o-8ktIsZ9ALZ"
      },
      "source": [
        "First, lets count the number of \"Yes\" and\"No's\" in the 'lightduty' feature column."
      ]
    },
    {
      "cell_type": "code",
      "execution_count": null,
      "metadata": {
        "id": "GA6LlWP89ALp"
      },
      "outputs": [],
      "source": [
        "df['lightduty'].value_counts(0)"
      ]
    },
    {
      "cell_type": "markdown",
      "metadata": {
        "id": "KcfiO0gg9ALp"
      },
      "source": [
        "Let's convert the Yes to 1 and No to 0. Pandas. apply()  . apply takes a function and applies it to all values of a Pandas series (e.g. lightduty). "
      ]
    },
    {
      "cell_type": "code",
      "execution_count": null,
      "metadata": {
        "id": "5p7IC1Q29ALp"
      },
      "outputs": [],
      "source": [
        "df.loc[:,'lightduty'] = df['lightduty'].apply(lambda x: 0 if x=='No' else 1)\n",
        "df['lightduty'].value_counts(0)"
      ]
    },
    {
      "cell_type": "code",
      "execution_count": null,
      "metadata": {
        "id": "_oOiQ_c39ALp"
      },
      "outputs": [],
      "source": [
        "# Confirm that \"lightduty\" has been converted.\n",
        "\n",
        "df.head()"
      ]
    },
    {
      "cell_type": "markdown",
      "metadata": {
        "id": "dI74Yp3b9ALp"
      },
      "source": [
        "#### One-Hot Encoding Categorical Feature Columns\n",
        "\n",
        "Machine learning algorithms expect input vectors and not categorical features. Specifically, they cannot handle text or string values.  Thus, it is often useful to transform categorical features into vectors.\n",
        "\n",
        "One transformation method is to create dummy variables for our categorical features.  Dummy variables are a set of binary (0 or 1) variables that each represent a single class from a categorical feature.  We simply  encode the categorical variable as a one-hot vector, i.e. a vector where only one element is non-zero, or hot.  With one-hot encoding, a categorical feature becomes an array whose size is the number of possible choices for that feature."
      ]
    },
    {
      "cell_type": "markdown",
      "metadata": {
        "id": "4G7OL3zs9ALp"
      },
      "source": [
        "Panda provides a function called \"get_dummies\" to convert a categorical variable into dummy/indicator variables."
      ]
    },
    {
      "cell_type": "code",
      "execution_count": null,
      "metadata": {
        "id": "w55iezNc9ALp"
      },
      "outputs": [],
      "source": [
        "# Making dummy variables for categorical data with more inputs.  \n",
        "\n",
        "data_dummy = pd.get_dummies(df[['zipcode','modelyear', 'fuel', 'make']], drop_first=True)\n",
        "data_dummy.head()"
      ]
    },
    {
      "cell_type": "markdown",
      "metadata": {
        "id": "shBGM4-B9ALp"
      },
      "source": [
        "**Lab Task #4a:** Merge (concatenate) original data frame with 'dummy' dataframe."
      ]
    },
    {
      "cell_type": "code",
      "execution_count": null,
      "metadata": {
        "id": "VUpzJSiO9ALp"
      },
      "outputs": [],
      "source": [
        "# TODO 4a\n",
        "# TODO -- Your code here.\n"
      ]
    },
    {
      "cell_type": "markdown",
      "metadata": {
        "id": "rrNIzJNn9ALp"
      },
      "source": [
        "**Lab Task #4b:** Drop attributes for which we made dummy variables."
      ]
    },
    {
      "cell_type": "code",
      "execution_count": null,
      "metadata": {
        "id": "gJivgrBd9ALp"
      },
      "outputs": [],
      "source": [
        "# TODO 4b\n",
        "# TODO -- Your code here.\n"
      ]
    },
    {
      "cell_type": "code",
      "execution_count": null,
      "metadata": {
        "id": "5o--EFQh9ALp"
      },
      "outputs": [],
      "source": [
        "# Confirm that 'zipcode','modelyear', 'fuel', and 'make' have been dropped.\n",
        "\n",
        "df.head()"
      ]
    },
    {
      "cell_type": "markdown",
      "metadata": {
        "id": "rrWZ2Hrm9ALp"
      },
      "source": [
        "#### Data Quality Issue #5:  \n",
        "##### Temporal Feature Columns\n",
        "\n",
        "Our dataset now contains year, month, and day feature columns.  Let's convert the month and day feature columns to meaningful representations as a way to get us thinking about changing temporal features -- as they are sometimes overlooked.  \n",
        "\n",
        "Note that the Feature Engineering course in this Specialization will provide more depth on methods to handle year, month, day, and hour feature columns.\n",
        "\n",
        "First, let's print the unique values for \"month\" and \"day\" in our dataset."
      ]
    },
    {
      "cell_type": "code",
      "execution_count": null,
      "metadata": {
        "id": "0SsRlEB_9ALp"
      },
      "outputs": [],
      "source": [
        "print ('Unique values of month:',df.month.unique())\n",
        "print ('Unique values of day:',df.day.unique())\n",
        "print ('Unique values of year:',df.year.unique())"
      ]
    },
    {
      "cell_type": "markdown",
      "metadata": {
        "id": "thtUs3mm9ALp"
      },
      "source": [
        "Next, we map each temporal variable onto a circle such that the lowest value for that variable appears right next to the largest value. We compute the x- and y- component of that point using sin and cos trigonometric functions.   Don't worry, this is the last time we will use this code, as you can develop an input pipeline to address these temporal feature columns in TensorFlow and Keras - and it is much easier!  But, sometimes you need to appreciate what you're not going to encounter as you move through the course!\n",
        "\n",
        "Run the cell to view the output."
      ]
    },
    {
      "cell_type": "markdown",
      "metadata": {
        "id": "mTkB4OQ79ALp"
      },
      "source": [
        "**Lab Task #5:** Drop month, and day"
      ]
    },
    {
      "cell_type": "code",
      "execution_count": null,
      "metadata": {
        "id": "ideFog_n9ALp"
      },
      "outputs": [],
      "source": [
        "df['day_sin'] = np.sin(df.day*(2.*np.pi/31))\n",
        "df['day_cos'] = np.cos(df.day*(2.*np.pi/31))\n",
        "df['month_sin'] = np.sin((df.month-1)*(2.*np.pi/12))\n",
        "df['month_cos'] = np.cos((df.month-1)*(2.*np.pi/12))\n",
        "\n",
        "# TODO 5\n",
        "# TODO -- Your code here.\n"
      ]
    },
    {
      "cell_type": "code",
      "execution_count": null,
      "metadata": {
        "id": "YYz42SsZ9AL5"
      },
      "outputs": [],
      "source": [
        "# scroll left to see the converted month and day coluumns.\n",
        "df.tail(4)"
      ]
    },
    {
      "cell_type": "markdown",
      "metadata": {
        "id": "PyVQ_97_9AL5"
      },
      "source": [
        "### Conclusion\n",
        "\n",
        "This notebook introduced a few concepts to improve data quality.  We resolved missing values, converted the Date feature column to a datetime format, renamed feature columns, removed a value from a feature column, created one-hot encoding features, and converted temporal features to meaningful representations.  By the end of our lab, we gained an understanding as to why data should be \"cleaned\" and \"pre-processed\" before input into a machine learning model."
      ]
    },
    {
      "cell_type": "markdown",
      "metadata": {
        "id": "am9o4voq9AL5"
      },
      "source": [
        "Copyright 2021 Google Inc.\n",
        "Licensed under the Apache License, Version 2.0 (the \"License\"); you may not use this file except in compliance with the License. You may obtain a copy of the License at\n",
        "http://www.apache.org/licenses/LICENSE-2.0\n",
        "Unless required by applicable law or agreed to in writing, software distributed under the License is distributed on an \"AS IS\" BASIS, WITHOUT WARRANTIES OR CONDITIONS OF ANY KIND, either express or implied. See the License for the specific language governing permissions and limitations under the License."
      ]
    }
  ],
  "metadata": {
    "colab": {
      "collapsed_sections": [],
      "provenance": [],
      "toc_visible": true
    },
    "environment": {
      "kernel": "python3",
      "name": "tf2-gpu.2-6.m97",
      "type": "gcloud",
      "uri": "gcr.io/deeplearning-platform-release/tf2-gpu.2-6:m97"
    },
    "kernelspec": {
      "display_name": "Python 3",
      "language": "python",
      "name": "python3"
    },
    "language_info": {
      "codemirror_mode": {
        "name": "ipython",
        "version": 3
      },
      "file_extension": ".py",
      "mimetype": "text/x-python",
      "name": "python",
      "nbconvert_exporter": "python",
      "pygments_lexer": "ipython3",
      "version": "3.7.12"
    }
  },
  "nbformat": 4,
  "nbformat_minor": 0
}